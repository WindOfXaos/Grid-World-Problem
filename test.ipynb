{
 "metadata": {
  "language_info": {
   "codemirror_mode": {
    "name": "ipython",
    "version": 3
   },
   "file_extension": ".py",
   "mimetype": "text/x-python",
   "name": "python",
   "nbconvert_exporter": "python",
   "pygments_lexer": "ipython3",
   "version": "3.7.2"
  },
  "orig_nbformat": 2,
  "kernelspec": {
   "name": "python372jvsc74a57bd0410e6ac40018eba3a428201f6328b81637ef818ce1f0061f5ecbdb0617f061dc",
   "display_name": "Python 3.7.2 64-bit"
  },
  "metadata": {
   "interpreter": {
    "hash": "410e6ac40018eba3a428201f6328b81637ef818ce1f0061f5ecbdb0617f061dc"
   }
  }
 },
 "nbformat": 4,
 "nbformat_minor": 2,
 "cells": [
  {
   "cell_type": "code",
   "execution_count": null,
   "metadata": {},
   "outputs": [],
   "source": [
    "from gridworld import *"
   ]
  },
  {
   "source": [
    "# Current Grid:"
   ],
   "cell_type": "markdown",
   "metadata": {}
  },
  {
   "cell_type": "code",
   "execution_count": null,
   "metadata": {},
   "outputs": [],
   "source": [
    "env = {}\n",
    "env = shuffle([5, 5], [2, 2], [1, 4])\n",
    "printGrid(env['grid'], env['direction'])"
   ]
  },
  {
   "source": [
    "# 0- Solving by commands"
   ],
   "cell_type": "markdown",
   "metadata": {}
  },
  {
   "source": [
    "humanSolve(env)"
   ],
   "cell_type": "code",
   "metadata": {},
   "execution_count": null,
   "outputs": []
  },
  {
   "source": [
    "# 1- Solving using DFS algorithim"
   ],
   "cell_type": "markdown",
   "metadata": {}
  },
  {
   "cell_type": "code",
   "execution_count": null,
   "metadata": {},
   "outputs": [],
   "source": [
    "computerSolve(env, 'DFS')"
   ]
  },
  {
   "source": [
    "# 2- Solving using BFS algorithim"
   ],
   "cell_type": "markdown",
   "metadata": {}
  },
  {
   "cell_type": "code",
   "execution_count": null,
   "metadata": {},
   "outputs": [],
   "source": [
    "computerSolve(env, 'BFS')"
   ]
  },
  {
   "source": [
    "# 3- Solving using UCS algorithim"
   ],
   "cell_type": "markdown",
   "metadata": {}
  },
  {
   "cell_type": "code",
   "execution_count": null,
   "metadata": {},
   "outputs": [],
   "source": [
    "computerSolve(env, 'UCS')"
   ]
  },
  {
   "source": [
    "# 4- Solving using Greedy algorithim"
   ],
   "cell_type": "markdown",
   "metadata": {}
  },
  {
   "cell_type": "code",
   "execution_count": null,
   "metadata": {},
   "outputs": [],
   "source": [
    "computerSolve(env, 'Greedy', h)"
   ]
  },
  {
   "source": [
    "# 5- Solving using Astar algorithim"
   ],
   "cell_type": "markdown",
   "metadata": {}
  },
  {
   "cell_type": "code",
   "execution_count": null,
   "metadata": {},
   "outputs": [],
   "source": [
    "computerSolve(env, 'Astar', h)"
   ]
  }
 ]
}